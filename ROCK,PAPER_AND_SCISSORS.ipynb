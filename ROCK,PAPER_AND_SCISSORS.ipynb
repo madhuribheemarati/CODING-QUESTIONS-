{
  "nbformat": 4,
  "nbformat_minor": 0,
  "metadata": {
    "colab": {
      "provenance": [],
      "authorship_tag": "ABX9TyM/DNnCPx6x/4OsRuukTkNn",
      "include_colab_link": true
    },
    "kernelspec": {
      "name": "python3",
      "display_name": "Python 3"
    },
    "language_info": {
      "name": "python"
    }
  },
  "cells": [
    {
      "cell_type": "markdown",
      "metadata": {
        "id": "view-in-github",
        "colab_type": "text"
      },
      "source": [
        "<a href=\"https://colab.research.google.com/github/madhuribheemarati/CODING-QUESTIONS-/blob/main/ROCK%2CPAPER_AND_SCISSORS.ipynb\" target=\"_parent\"><img src=\"https://colab.research.google.com/assets/colab-badge.svg\" alt=\"Open In Colab\"/></a>"
      ]
    },
    {
      "cell_type": "code",
      "execution_count": 1,
      "metadata": {
        "colab": {
          "base_uri": "https://localhost:8080/"
        },
        "id": "MTWVN7uKuOdy",
        "outputId": "178c7610-0797-4013-d494-95984a7df1a7"
      },
      "outputs": [
        {
          "output_type": "stream",
          "name": "stdout",
          "text": [
            "enter the value:SCISSORS\n",
            "invalid input\n"
          ]
        }
      ],
      "source": [
        "def winning_move(M):\n",
        "  if M==\"rock\":\n",
        "    return \"paper\"\n",
        "  elif M==\"paper\":\n",
        "    return \"scissors\"\n",
        "  elif M==\"scissors\":\n",
        "    return \"rock\"\n",
        "  else:\n",
        "    return \"invalid input\"\n",
        "M=input(\"enter the value:\")\n",
        "print(winning_move(M))"
      ]
    }
  ]
}