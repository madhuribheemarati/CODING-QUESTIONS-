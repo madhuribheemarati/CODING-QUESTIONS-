{
  "nbformat": 4,
  "nbformat_minor": 0,
  "metadata": {
    "colab": {
      "provenance": [],
      "authorship_tag": "ABX9TyOMIUJIbU4xEp8DeCoQHq/w",
      "include_colab_link": true
    },
    "kernelspec": {
      "name": "python3",
      "display_name": "Python 3"
    },
    "language_info": {
      "name": "python"
    }
  },
  "cells": [
    {
      "cell_type": "markdown",
      "metadata": {
        "id": "view-in-github",
        "colab_type": "text"
      },
      "source": [
        "<a href=\"https://colab.research.google.com/github/madhuribheemarati/CODING-QUESTIONS-/blob/main/binary_operations.ipynb\" target=\"_parent\"><img src=\"https://colab.research.google.com/assets/colab-badge.svg\" alt=\"Open In Colab\"/></a>"
      ]
    },
    {
      "cell_type": "markdown",
      "source": [
        "binary operations"
      ],
      "metadata": {
        "id": "KXnD1VUFsieV"
      }
    },
    {
      "cell_type": "code",
      "execution_count": 4,
      "metadata": {
        "colab": {
          "base_uri": "https://localhost:8080/"
        },
        "id": "CKAcB32ssftU",
        "outputId": "ff4014a3-d9be-42ab-c9bf-4353c1f8095d"
      },
      "outputs": [
        {
          "output_type": "stream",
          "name": "stdout",
          "text": [
            "1C0C1C1A0B1\n",
            "1\n"
          ]
        }
      ],
      "source": [
        "def binary_operations(str):\n",
        "  ans=ord(str[0])-ord('0')\n",
        "  for i in range(1,len(str)-1,2):\n",
        "      j=i+1\n",
        "      if str=='A':\n",
        "          ans=ans&ans(str[j]-ord(str('0')))\n",
        "      elif str=='B':\n",
        "          ans=ans|ans(str[j]-ord(str('0')))\n",
        "      elif str=='C':\n",
        "          ans=ans^ans(str[j]-ord(str('0')))\n",
        "  return ans\n",
        "str=(input())\n",
        "print(binary_operations(str))"
      ]
    }
  ]
}