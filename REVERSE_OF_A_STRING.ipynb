{
  "nbformat": 4,
  "nbformat_minor": 0,
  "metadata": {
    "colab": {
      "provenance": [],
      "authorship_tag": "ABX9TyMw74LKhd3KNUr35dE0dZhP",
      "include_colab_link": true
    },
    "kernelspec": {
      "name": "python3",
      "display_name": "Python 3"
    },
    "language_info": {
      "name": "python"
    }
  },
  "cells": [
    {
      "cell_type": "markdown",
      "metadata": {
        "id": "view-in-github",
        "colab_type": "text"
      },
      "source": [
        "<a href=\"https://colab.research.google.com/github/madhuribheemarati/CODING-QUESTIONS-/blob/main/REVERSE_OF_A_STRING.ipynb\" target=\"_parent\"><img src=\"https://colab.research.google.com/assets/colab-badge.svg\" alt=\"Open In Colab\"/></a>"
      ]
    },
    {
      "cell_type": "markdown",
      "source": [
        "USING SLICING"
      ],
      "metadata": {
        "id": "NEpypb63Iq4O"
      }
    },
    {
      "cell_type": "code",
      "source": [
        "s=input ()\n",
        "str=s[::-1]\n",
        "print(str)"
      ],
      "metadata": {
        "colab": {
          "base_uri": "https://localhost:8080/"
        },
        "id": "Hk3xSXekIsRp",
        "outputId": "4bf72fae-f83b-4d32-c7b3-de767b7be83f"
      },
      "execution_count": 2,
      "outputs": [
        {
          "output_type": "stream",
          "name": "stdout",
          "text": [
            "Madhuri\n",
            "iruhdaM\n"
          ]
        }
      ]
    },
    {
      "cell_type": "markdown",
      "source": [
        "Using for loop"
      ],
      "metadata": {
        "id": "x2qB7ZgII9Ac"
      }
    },
    {
      "cell_type": "code",
      "source": [
        "str=input()\n",
        "str1=\"\"\n",
        "for i in range(len(str)-1,-1,-1):\n",
        "    str1+=str[i]\n",
        "print(str1)"
      ],
      "metadata": {
        "colab": {
          "base_uri": "https://localhost:8080/"
        },
        "id": "U83xL1ClI-43",
        "outputId": "e19fd4d6-b0c4-4c80-9534-5d57ecefa75b"
      },
      "execution_count": 4,
      "outputs": [
        {
          "output_type": "stream",
          "name": "stdout",
          "text": [
            "Madhuri\n",
            "iruhdaM\n"
          ]
        }
      ]
    }
  ]
}