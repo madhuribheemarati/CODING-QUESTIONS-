{
  "nbformat": 4,
  "nbformat_minor": 0,
  "metadata": {
    "colab": {
      "provenance": [],
      "authorship_tag": "ABX9TyNRBnc2HS34jT9TpiiD57+A",
      "include_colab_link": true
    },
    "kernelspec": {
      "name": "python3",
      "display_name": "Python 3"
    },
    "language_info": {
      "name": "python"
    }
  },
  "cells": [
    {
      "cell_type": "markdown",
      "metadata": {
        "id": "view-in-github",
        "colab_type": "text"
      },
      "source": [
        "<a href=\"https://colab.research.google.com/github/madhuribheemarati/CODING-QUESTIONS-/blob/main/operation_choices.ipynb\" target=\"_parent\"><img src=\"https://colab.research.google.com/assets/colab-badge.svg\" alt=\"Open In Colab\"/></a>"
      ]
    },
    {
      "cell_type": "markdown",
      "source": [
        "OPERATION CHOICES\n"
      ],
      "metadata": {
        "id": "KpX0vhhLxR46"
      }
    },
    {
      "cell_type": "code",
      "execution_count": 5,
      "metadata": {
        "colab": {
          "base_uri": "https://localhost:8080/"
        },
        "id": "iqYeMvNTxNhX",
        "outputId": "247dcc54-ba8f-4353-91f1-885edd7db5a1"
      },
      "outputs": [
        {
          "output_type": "stream",
          "name": "stdout",
          "text": [
            "-5\n"
          ]
        }
      ],
      "source": [
        "def operation_choices(c,a,b):\n",
        "    if c==1:\n",
        "        return(a+b)\n",
        "    elif c==2:\n",
        "        return(a-b)\n",
        "    elif c==3:\n",
        "        return(a*b)\n",
        "    elif c==4:\n",
        "        if b==0:\n",
        "            return \"error:divisble by zero:\"\n",
        "        return a/b\n",
        "    else:\n",
        "        return \"invalid operations\"\n",
        "print(operation_choices(2,15,20))"
      ]
    }
  ]
}