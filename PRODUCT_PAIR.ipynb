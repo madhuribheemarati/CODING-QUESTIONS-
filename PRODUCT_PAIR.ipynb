{
  "nbformat": 4,
  "nbformat_minor": 0,
  "metadata": {
    "colab": {
      "provenance": [],
      "authorship_tag": "ABX9TyNT2/t7n/YS2qnRYMAdYSSX",
      "include_colab_link": true
    },
    "kernelspec": {
      "name": "python3",
      "display_name": "Python 3"
    },
    "language_info": {
      "name": "python"
    }
  },
  "cells": [
    {
      "cell_type": "markdown",
      "metadata": {
        "id": "view-in-github",
        "colab_type": "text"
      },
      "source": [
        "<a href=\"https://colab.research.google.com/github/madhuribheemarati/CODING-QUESTIONS-/blob/main/PRODUCT_PAIR.ipynb\" target=\"_parent\"><img src=\"https://colab.research.google.com/assets/colab-badge.svg\" alt=\"Open In Colab\"/></a>"
      ]
    },
    {
      "cell_type": "code",
      "execution_count": 1,
      "metadata": {
        "colab": {
          "base_uri": "https://localhost:8080/"
        },
        "id": "rdFHa3Nu_u-M",
        "outputId": "07ed38d9-0211-4a23-b66f-405d7a5afba9"
      },
      "outputs": [
        {
          "output_type": "stream",
          "name": "stdout",
          "text": [
            "9\n"
          ]
        }
      ],
      "source": [
        "def product_pair(A,N):\n",
        "  unique_pairs=set()\n",
        "  for i in range(N):\n",
        "    for j in range(i+1,N):\n",
        "        if A[i]*A[j]%3==0:\n",
        "            unique_pairs.add((min(A[i],A[j]),max(A[i],A[j])))\n",
        "  return len(unique_pairs)\n",
        "N=5\n",
        "A=[3,6,1,2,9]\n",
        "print(product_pair(A,N))"
      ]
    }
  ]
}