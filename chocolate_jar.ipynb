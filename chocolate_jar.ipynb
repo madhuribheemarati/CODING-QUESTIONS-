{
  "nbformat": 4,
  "nbformat_minor": 0,
  "metadata": {
    "colab": {
      "provenance": [],
      "authorship_tag": "ABX9TyPB7Yp6luPP5+dAnu/ALZmJ",
      "include_colab_link": true
    },
    "kernelspec": {
      "name": "python3",
      "display_name": "Python 3"
    },
    "language_info": {
      "name": "python"
    }
  },
  "cells": [
    {
      "cell_type": "markdown",
      "metadata": {
        "id": "view-in-github",
        "colab_type": "text"
      },
      "source": [
        "<a href=\"https://colab.research.google.com/github/madhuribheemarati/CODING-QUESTIONS-/blob/main/chocolate_jar.ipynb\" target=\"_parent\"><img src=\"https://colab.research.google.com/assets/colab-badge.svg\" alt=\"Open In Colab\"/></a>"
      ]
    },
    {
      "cell_type": "code",
      "execution_count": 1,
      "metadata": {
        "colab": {
          "base_uri": "https://localhost:8080/"
        },
        "id": "IRQLHQiA56bv",
        "outputId": "db3e7d43-2ecd-4624-ae59-bc6408e7a88b"
      },
      "outputs": [
        {
          "output_type": "stream",
          "name": "stdout",
          "text": [
            "4\n"
          ]
        }
      ],
      "source": [
        "def chocolate_for_A(input1,input2):\n",
        "  total_chocolates_A=0\n",
        "  for chocolates in input1:\n",
        "    chocolates_picked_by_A=(chocolates+2)//3\n",
        "    total_chocolates_A+=chocolates_picked_by_A\n",
        "  return total_chocolates_A\n",
        "input1=[3,2,6]\n",
        "input2=3\n",
        "print(chocolate_for_A(input1,input2))"
      ]
    }
  ]
}