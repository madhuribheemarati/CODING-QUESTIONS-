{
  "nbformat": 4,
  "nbformat_minor": 0,
  "metadata": {
    "colab": {
      "provenance": [],
      "authorship_tag": "ABX9TyPqGB0UgRu3Z5dh96W5DEHg",
      "include_colab_link": true
    },
    "kernelspec": {
      "name": "python3",
      "display_name": "Python 3"
    },
    "language_info": {
      "name": "python"
    }
  },
  "cells": [
    {
      "cell_type": "markdown",
      "metadata": {
        "id": "view-in-github",
        "colab_type": "text"
      },
      "source": [
        "<a href=\"https://colab.research.google.com/github/madhuribheemarati/CODING-QUESTIONS-/blob/main/First_and_last_letter_in_upper_case.ipynb\" target=\"_parent\"><img src=\"https://colab.research.google.com/assets/colab-badge.svg\" alt=\"Open In Colab\"/></a>"
      ]
    },
    {
      "cell_type": "code",
      "execution_count": 8,
      "metadata": {
        "colab": {
          "base_uri": "https://localhost:8080/"
        },
        "id": "v9gVfzP6EyoZ",
        "outputId": "b5c1ee04-64a0-4b7d-c034-73a44130d756"
      },
      "outputs": [
        {
          "output_type": "stream",
          "name": "stdout",
          "text": [
            "madhu\n",
            "MadhU\n"
          ]
        }
      ],
      "source": [
        "str=input()\n",
        "str1=str[0].upper()+str[1:len(str)-1]+str[len(str)-1].upper()\n",
        "print(str1)"
      ]
    }
  ]
}