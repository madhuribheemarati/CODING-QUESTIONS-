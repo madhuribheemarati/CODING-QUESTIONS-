{
  "nbformat": 4,
  "nbformat_minor": 0,
  "metadata": {
    "colab": {
      "provenance": [],
      "authorship_tag": "ABX9TyM+E7fi++DyTeRRwrezxG/D",
      "include_colab_link": true
    },
    "kernelspec": {
      "name": "python3",
      "display_name": "Python 3"
    },
    "language_info": {
      "name": "python"
    }
  },
  "cells": [
    {
      "cell_type": "markdown",
      "metadata": {
        "id": "view-in-github",
        "colab_type": "text"
      },
      "source": [
        "<a href=\"https://colab.research.google.com/github/madhuribheemarati/CODING-QUESTIONS-/blob/main/FINANCIAL_DATASET.ipynb\" target=\"_parent\"><img src=\"https://colab.research.google.com/assets/colab-badge.svg\" alt=\"Open In Colab\"/></a>"
      ]
    },
    {
      "cell_type": "code",
      "execution_count": 1,
      "metadata": {
        "colab": {
          "base_uri": "https://localhost:8080/"
        },
        "id": "Ut-0R1Aiuplh",
        "outputId": "7abe40c7-c8c3-4e82-c2ee-cd9bd5b5b131"
      },
      "outputs": [
        {
          "output_type": "stream",
          "name": "stdout",
          "text": [
            "2\n"
          ]
        }
      ],
      "source": [
        "def count_negative_growth(A,N):\n",
        "    negative_growth_days=0\n",
        "    for i in range(1,N):\n",
        "        if A[i]<A[i-1]:\n",
        "            negative_growth_days+=1\n",
        "    return negative_growth_days\n",
        "A=[3,5,6,-7,9,10,-12]\n",
        "N=7\n",
        "print(count_negative_growth(A,N))"
      ]
    }
  ]
}