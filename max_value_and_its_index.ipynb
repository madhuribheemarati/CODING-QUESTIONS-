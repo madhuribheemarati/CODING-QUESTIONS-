{
  "nbformat": 4,
  "nbformat_minor": 0,
  "metadata": {
    "colab": {
      "provenance": [],
      "authorship_tag": "ABX9TyO+ISCFw6mayksajyHCvOvu",
      "include_colab_link": true
    },
    "kernelspec": {
      "name": "python3",
      "display_name": "Python 3"
    },
    "language_info": {
      "name": "python"
    }
  },
  "cells": [
    {
      "cell_type": "markdown",
      "metadata": {
        "id": "view-in-github",
        "colab_type": "text"
      },
      "source": [
        "<a href=\"https://colab.research.google.com/github/madhuribheemarati/CODING-QUESTIONS-/blob/main/max_value_and_its_index.ipynb\" target=\"_parent\"><img src=\"https://colab.research.google.com/assets/colab-badge.svg\" alt=\"Open In Colab\"/></a>"
      ]
    },
    {
      "cell_type": "code",
      "execution_count": 5,
      "metadata": {
        "colab": {
          "base_uri": "https://localhost:8080/"
        },
        "id": "8OZ3UNfKugLV",
        "outputId": "6662b208-8650-4564-eb98-be3c00a8d2da"
      },
      "outputs": [
        {
          "output_type": "stream",
          "name": "stdout",
          "text": [
            "10\n",
            "15 78 96 17 20 65 14 36 18 20\n",
            "(96, 2)\n"
          ]
        }
      ],
      "source": [
        "def find_max_in_arr(arr,n):\n",
        "    if len(arr)==0:\n",
        "        return 0\n",
        "    max_value=max(arr)\n",
        "    max_index=arr.index(max_value)\n",
        "    return max_value,max_index\n",
        "n=int(input())\n",
        "arr=list(map(int,input().split()))\n",
        "print(find_max_in_arr(arr,n))\n",
        "\n"
      ]
    }
  ]
}