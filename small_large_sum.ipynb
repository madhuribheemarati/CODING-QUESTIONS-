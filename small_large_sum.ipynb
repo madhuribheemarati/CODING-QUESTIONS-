{
  "nbformat": 4,
  "nbformat_minor": 0,
  "metadata": {
    "colab": {
      "provenance": [],
      "authorship_tag": "ABX9TyNB76A3HPzqSIcY7V8MowFA",
      "include_colab_link": true
    },
    "kernelspec": {
      "name": "python3",
      "display_name": "Python 3"
    },
    "language_info": {
      "name": "python"
    }
  },
  "cells": [
    {
      "cell_type": "markdown",
      "metadata": {
        "id": "view-in-github",
        "colab_type": "text"
      },
      "source": [
        "<a href=\"https://colab.research.google.com/github/madhuribheemarati/CODING-QUESTIONS-/blob/main/small_large_sum.ipynb\" target=\"_parent\"><img src=\"https://colab.research.google.com/assets/colab-badge.svg\" alt=\"Open In Colab\"/></a>"
      ]
    },
    {
      "cell_type": "markdown",
      "source": [
        "SMALL LARGE SUM"
      ],
      "metadata": {
        "id": "ukCStpFWoX8x"
      }
    },
    {
      "cell_type": "code",
      "execution_count": 2,
      "metadata": {
        "colab": {
          "base_uri": "https://localhost:8080/"
        },
        "id": "IKnxIiO-oSNJ",
        "outputId": "1aaee4c6-c6a3-49a2-f757-cc9b2c7b0f5b"
      },
      "outputs": [
        {
          "output_type": "stream",
          "name": "stdout",
          "text": [
            "6\n",
            "3 2 1 7 5 4\n",
            "7\n"
          ]
        }
      ],
      "source": [
        "def small_large_sum(arr,n):\n",
        "  if len(arr)<=3:\n",
        "    return 0\n",
        "  even_elements=arr[::2]\n",
        "  odd_elements=arr[1::2]\n",
        "  even_elements.sort()\n",
        "  odd_elements.sort()\n",
        "  second_largest_even=even_elements[-2]\n",
        "  second_largest_odd=odd_elements[-2]\n",
        "  return second_largest_even+second_largest_odd\n",
        "n=int(input())\n",
        "arr=list(map(int,input().split()))\n",
        "print(small_large_sum(arr,n))"
      ]
    }
  ]
}