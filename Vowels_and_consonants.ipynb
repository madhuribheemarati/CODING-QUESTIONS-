{
  "nbformat": 4,
  "nbformat_minor": 0,
  "metadata": {
    "colab": {
      "provenance": [],
      "authorship_tag": "ABX9TyMMElf+y9kdPH4A/iBDNTcI",
      "include_colab_link": true
    },
    "kernelspec": {
      "name": "python3",
      "display_name": "Python 3"
    },
    "language_info": {
      "name": "python"
    }
  },
  "cells": [
    {
      "cell_type": "markdown",
      "metadata": {
        "id": "view-in-github",
        "colab_type": "text"
      },
      "source": [
        "<a href=\"https://colab.research.google.com/github/madhuribheemarati/CODING-QUESTIONS-/blob/main/Vowels_and_consonants.ipynb\" target=\"_parent\"><img src=\"https://colab.research.google.com/assets/colab-badge.svg\" alt=\"Open In Colab\"/></a>"
      ]
    },
    {
      "cell_type": "code",
      "execution_count": 3,
      "metadata": {
        "colab": {
          "base_uri": "https://localhost:8080/"
        },
        "id": "5PxqGNnr6dqR",
        "outputId": "e3661c4b-6dc9-40cb-b11c-6890f9f64324"
      },
      "outputs": [
        {
          "output_type": "stream",
          "name": "stdout",
          "text": [
            "I\n",
            "vowel\n"
          ]
        }
      ],
      "source": [
        "a=input()\n",
        "if(a=='a'or a=='e' or a=='i' or a=='o' or a=='u' or a=='A' or a=='I' or a=='E' or a=='O' or a=='U'):\n",
        "    print(\"vowel\")\n",
        "else:\n",
        "    print(\"consonant\")"
      ]
    }
  ]
}