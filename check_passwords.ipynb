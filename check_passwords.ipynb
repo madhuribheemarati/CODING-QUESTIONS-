{
  "nbformat": 4,
  "nbformat_minor": 0,
  "metadata": {
    "colab": {
      "provenance": [],
      "authorship_tag": "ABX9TyO0MKlXCiQhKYDlIcGmF2kK",
      "include_colab_link": true
    },
    "kernelspec": {
      "name": "python3",
      "display_name": "Python 3"
    },
    "language_info": {
      "name": "python"
    }
  },
  "cells": [
    {
      "cell_type": "markdown",
      "metadata": {
        "id": "view-in-github",
        "colab_type": "text"
      },
      "source": [
        "<a href=\"https://colab.research.google.com/github/madhuribheemarati/CODING-QUESTIONS-/blob/main/check_passwords.ipynb\" target=\"_parent\"><img src=\"https://colab.research.google.com/assets/colab-badge.svg\" alt=\"Open In Colab\"/></a>"
      ]
    },
    {
      "cell_type": "markdown",
      "source": [
        "check password"
      ],
      "metadata": {
        "id": "Bsw8bg-Uqgtr"
      }
    },
    {
      "cell_type": "code",
      "execution_count": 3,
      "metadata": {
        "colab": {
          "base_uri": "https://localhost:8080/"
        },
        "id": "hmYfwWiFqcq6",
        "outputId": "945c2d20-e8f1-4640-cb1c-65352b78efab"
      },
      "outputs": [
        {
          "output_type": "stream",
          "name": "stdout",
          "text": [
            "bB1_89\n",
            "1\n"
          ]
        }
      ],
      "source": [
        "def check_password(str):\n",
        "  if len(str)<4:\n",
        "    return 0\n",
        "  if str[0].isdigit():\n",
        "    return 0\n",
        "  if not any(char.isdigit() for char in str):\n",
        "    return 0\n",
        "  if not any(char.isupper() for char in str):\n",
        "    return 0\n",
        "  if ' ' in str or '/' in str:\n",
        "    return 0\n",
        "  return 1\n",
        "str=input()\n",
        "print(check_password(str))"
      ]
    }
  ]
}