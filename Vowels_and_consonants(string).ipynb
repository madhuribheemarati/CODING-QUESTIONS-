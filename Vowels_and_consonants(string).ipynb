{
  "nbformat": 4,
  "nbformat_minor": 0,
  "metadata": {
    "colab": {
      "provenance": [],
      "authorship_tag": "ABX9TyPJJRfco4cd98xI1Imr5RwM",
      "include_colab_link": true
    },
    "kernelspec": {
      "name": "python3",
      "display_name": "Python 3"
    },
    "language_info": {
      "name": "python"
    }
  },
  "cells": [
    {
      "cell_type": "markdown",
      "metadata": {
        "id": "view-in-github",
        "colab_type": "text"
      },
      "source": [
        "<a href=\"https://colab.research.google.com/github/madhuribheemarati/CODING-QUESTIONS-/blob/main/Vowels_and_consonants(string).ipynb\" target=\"_parent\"><img src=\"https://colab.research.google.com/assets/colab-badge.svg\" alt=\"Open In Colab\"/></a>"
      ]
    },
    {
      "cell_type": "code",
      "execution_count": 2,
      "metadata": {
        "colab": {
          "base_uri": "https://localhost:8080/"
        },
        "id": "k_VD7edY8TDU",
        "outputId": "c8a2f696-d1e2-4d14-d73f-4211405ec89b"
      },
      "outputs": [
        {
          "output_type": "stream",
          "name": "stdout",
          "text": [
            "Madhuri\n",
            "vowels: 3\n",
            "consonants: 4\n"
          ]
        }
      ],
      "source": [
        "a=input()\n",
        "v=0\n",
        "c=0\n",
        "for i in a:\n",
        "    if(i=='a' or i=='e' or i=='o' or i=='u' or i=='i' or i=='A' or i=='E' or i=='O' or i=='U' or i=='I'):\n",
        "        v+=1\n",
        "    else:\n",
        "        c+=1\n",
        "print(\"vowels:\",v)\n",
        "print(\"consonants:\",c)"
      ]
    }
  ]
}