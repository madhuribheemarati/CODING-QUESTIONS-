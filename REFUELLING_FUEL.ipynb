{
  "nbformat": 4,
  "nbformat_minor": 0,
  "metadata": {
    "colab": {
      "provenance": [],
      "authorship_tag": "ABX9TyNLtAhF2EV/G/3Fy1oGZjOb",
      "include_colab_link": true
    },
    "kernelspec": {
      "name": "python3",
      "display_name": "Python 3"
    },
    "language_info": {
      "name": "python"
    }
  },
  "cells": [
    {
      "cell_type": "markdown",
      "metadata": {
        "id": "view-in-github",
        "colab_type": "text"
      },
      "source": [
        "<a href=\"https://colab.research.google.com/github/madhuribheemarati/CODING-QUESTIONS-/blob/main/REFUELLING_FUEL.ipynb\" target=\"_parent\"><img src=\"https://colab.research.google.com/assets/colab-badge.svg\" alt=\"Open In Colab\"/></a>"
      ]
    },
    {
      "cell_type": "code",
      "execution_count": 1,
      "metadata": {
        "colab": {
          "base_uri": "https://localhost:8080/"
        },
        "id": "cmf9LBBsuAHr",
        "outputId": "3faa3046-2c28-4861-8aec-fd743f5a8850"
      },
      "outputs": [
        {
          "output_type": "stream",
          "name": "stdout",
          "text": [
            "3\n"
          ]
        }
      ],
      "source": [
        "def min_refuelling_machines(X,N,fuel):\n",
        "  fuel.sort(reverse=True)\n",
        "  refuelling_stops=0\n",
        "  leftover_fuel=0\n",
        "  for i in range(N):\n",
        "    fuel[i]+=leftover_fuel\n",
        "    if fuel[i]<X:\n",
        "        refuelling_stops+=1\n",
        "        leftover_fuel=0\n",
        "    else:\n",
        "        leftover_fuel=fuel[i]-X\n",
        "  return refuelling_stops\n",
        "X=10\n",
        "N=5\n",
        "fuel=[4,8,15,3,5]\n",
        "print(min_refuelling_machines(X,N,fuel))"
      ]
    }
  ]
}