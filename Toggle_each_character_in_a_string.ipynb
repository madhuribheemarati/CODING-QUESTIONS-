{
  "nbformat": 4,
  "nbformat_minor": 0,
  "metadata": {
    "colab": {
      "provenance": [],
      "authorship_tag": "ABX9TyPLBUgZu0gke/jqoa0ui4bN",
      "include_colab_link": true
    },
    "kernelspec": {
      "name": "python3",
      "display_name": "Python 3"
    },
    "language_info": {
      "name": "python"
    }
  },
  "cells": [
    {
      "cell_type": "markdown",
      "metadata": {
        "id": "view-in-github",
        "colab_type": "text"
      },
      "source": [
        "<a href=\"https://colab.research.google.com/github/madhuribheemarati/CODING-QUESTIONS-/blob/main/Toggle_each_character_in_a_string.ipynb\" target=\"_parent\"><img src=\"https://colab.research.google.com/assets/colab-badge.svg\" alt=\"Open In Colab\"/></a>"
      ]
    },
    {
      "cell_type": "markdown",
      "source": [
        "USING SWAPCASE"
      ],
      "metadata": {
        "id": "IA-udpQTCwRu"
      }
    },
    {
      "cell_type": "code",
      "source": [
        "str=input()\n",
        "print(str.swapcase())"
      ],
      "metadata": {
        "colab": {
          "base_uri": "https://localhost:8080/"
        },
        "id": "_7a6b3PvCztk",
        "outputId": "73469184-0935-4863-c23a-425966d88fb4"
      },
      "execution_count": 3,
      "outputs": [
        {
          "output_type": "stream",
          "name": "stdout",
          "text": [
            "MadhuRI\n",
            "mADHUri\n"
          ]
        }
      ]
    },
    {
      "cell_type": "markdown",
      "source": [
        "WITHOUT INBUILT"
      ],
      "metadata": {
        "id": "oAvjGRpuC9YE"
      }
    },
    {
      "cell_type": "code",
      "source": [
        "str=input()\n",
        "str1=\"\"\n",
        "for i in str:\n",
        "    if i.upper():\n",
        "        i=i.lower()\n",
        "        str1+=i\n",
        "    else:\n",
        "        i=i.upper()\n",
        "        str1+=i\n",
        "print(str1)"
      ],
      "metadata": {
        "colab": {
          "base_uri": "https://localhost:8080/"
        },
        "id": "0H1ffjkvDBEf",
        "outputId": "acf50bf7-4d2e-4965-9bd5-deebd50c9975"
      },
      "execution_count": 14,
      "outputs": [
        {
          "output_type": "stream",
          "name": "stdout",
          "text": [
            "MADHURI\n",
            "madhuri\n"
          ]
        }
      ]
    }
  ]
}