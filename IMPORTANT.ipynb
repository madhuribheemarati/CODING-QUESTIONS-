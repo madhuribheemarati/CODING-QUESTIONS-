{
  "cells": [
    {
      "cell_type": "markdown",
      "metadata": {
        "id": "view-in-github",
        "colab_type": "text"
      },
      "source": [
        "<a href=\"https://colab.research.google.com/github/madhuribheemarati/CODING-QUESTIONS-/blob/main/IMPORTANT.ipynb\" target=\"_parent\"><img src=\"https://colab.research.google.com/assets/colab-badge.svg\" alt=\"Open In Colab\"/></a>"
      ]
    },
    {
      "cell_type": "markdown",
      "metadata": {
        "id": "Czp0UTQzrUsM"
      },
      "source": [
        "SMALL LARGE SUM"
      ]
    },
    {
      "cell_type": "code",
      "execution_count": null,
      "metadata": {
        "colab": {
          "base_uri": "https://localhost:8080/"
        },
        "id": "HGRkH6xRrWGT",
        "outputId": "af78f571-57da-4de2-ef59-18f7b486d61a"
      },
      "outputs": [
        {
          "name": "stdout",
          "output_type": "stream",
          "text": [
            "7\n",
            "4 0 7 9 6 4 2\n",
            "10\n"
          ]
        }
      ],
      "source": [
        "\n",
        "def Small_large_sum(arr,n):\n",
        "    if len(arr)<=3:\n",
        "        return 0\n",
        "    even_elements=arr[::2]\n",
        "    odd_elements=arr[1::2]\n",
        "    even_elements.sort()\n",
        "    odd_elements.sort()\n",
        "    second_largest_even=even_elements[-2]\n",
        "    second_largest_odd=odd_elements[-2]\n",
        "    return second_largest_even+second_largest_odd\n",
        "n=int(input())\n",
        "arr=list(map(int,input().split()))\n",
        "print(Small_large_sum(arr,n))"
      ]
    },
    {
      "cell_type": "markdown",
      "metadata": {
        "id": "3KiMigc7raX4"
      },
      "source": [
        "CHECK PASSWORD"
      ]
    },
    {
      "cell_type": "code",
      "execution_count": null,
      "metadata": {
        "colab": {
          "base_uri": "https://localhost:8080/"
        },
        "id": "lK4VggVjrpuo",
        "outputId": "6f67b712-375a-4dae-8ce8-1a26cb07baaa"
      },
      "outputs": [
        {
          "name": "stdout",
          "output_type": "stream",
          "text": [
            "bB1_89\n",
            "1\n"
          ]
        }
      ],
      "source": [
        "def check_password(str):\n",
        "    if len(str)<4:\n",
        "        return 0\n",
        "    if str[0].isdigit():\n",
        "        return 0\n",
        "    if not any(char.isdigit()for char in str):\n",
        "        return 0\n",
        "    if not any(char.isupper()for char in str):\n",
        "        return 0\n",
        "    if ' ' in str or '/'in str:\n",
        "        return 0\n",
        "    return 1\n",
        "\n",
        "\n",
        "str=input()\n",
        "print(check_password(str))"
      ]
    },
    {
      "cell_type": "markdown",
      "metadata": {
        "id": "GagB6CravCWb"
      },
      "source": [
        "BINARY OPERATIONS"
      ]
    },
    {
      "cell_type": "code",
      "execution_count": null,
      "metadata": {
        "colab": {
          "base_uri": "https://localhost:8080/"
        },
        "id": "CMlmLpWf0DOH",
        "outputId": "cd4c93eb-0e4c-4cea-bd70-e83b5f79d897"
      },
      "outputs": [
        {
          "name": "stdout",
          "output_type": "stream",
          "text": [
            "1C0C1C1A0B1 \n",
            "1\n"
          ]
        }
      ],
      "source": [
        "def calculate_binaryoperations(str):\n",
        "    ans=ord(str[0])-ord('0')\n",
        "    for i in range(1,len(str)-1,2):\n",
        "        j=i+1\n",
        "        if (str[i]=='A'):\n",
        "            ans=ans&(ord(str[j])-ord('0'))\n",
        "        elif(str[i]=='B'):\n",
        "            ans=ans|(ord(str[j])-ord('0'))\n",
        "        else:\n",
        "            ans=ans^(ord(str[j])-ord('0'))\n",
        "    return ans\n",
        "str=input()\n",
        "print(calculate_binaryoperations(str))"
      ]
    },
    {
      "cell_type": "markdown",
      "metadata": {
        "id": "tcpPnvw83tVM"
      },
      "source": [
        "MAXIMUM IN THE ARRAY"
      ]
    },
    {
      "cell_type": "code",
      "execution_count": null,
      "metadata": {
        "colab": {
          "base_uri": "https://localhost:8080/"
        },
        "id": "Bebq4M9_3zEw",
        "outputId": "deca857d-ab92-4faa-8b38-13764fa1da49"
      },
      "outputs": [
        {
          "name": "stdout",
          "output_type": "stream",
          "text": [
            "10\n",
            "15 78 96 17 20 65 14 36 18 20\n",
            "(96, 2)\n"
          ]
        }
      ],
      "source": [
        "def FindmaxInArray(arr,n):\n",
        "    if len(arr)==0:\n",
        "        return 0\n",
        "    max_value=max(arr)\n",
        "    max_index=arr.index(max_value)\n",
        "    return max_value,max_index\n",
        "\n",
        "\n",
        "n=int(input())\n",
        "arr=list(map(int,input().split()))\n",
        "print(FindmaxInArray(arr,n))"
      ]
    },
    {
      "cell_type": "markdown",
      "metadata": {
        "id": "5Vr4G4oYB-vL"
      },
      "source": [
        "OPERATION BINARY CHOICES"
      ]
    },
    {
      "cell_type": "code",
      "execution_count": null,
      "metadata": {
        "colab": {
          "base_uri": "https://localhost:8080/"
        },
        "id": "tzjDAFGoCBZ0",
        "outputId": "2a1558f1-82e7-4835-d1ef-bc38b21bd991"
      },
      "outputs": [
        {
          "name": "stdout",
          "output_type": "stream",
          "text": [
            "-5\n"
          ]
        }
      ],
      "source": [
        "def operationchoices(c,a,b):\n",
        "    if c==1:\n",
        "        return a+b\n",
        "    elif c==2:\n",
        "        return a-b\n",
        "    elif c==3:\n",
        "        return a*b\n",
        "    elif c==4:\n",
        "        if b==0:\n",
        "            return \"error:division by zero\"\n",
        "        return a/b\n",
        "    else:\n",
        "        return \"error:invalid operation choice\"\n",
        "print(operationchoices(2,15,20))"
      ]
    },
    {
      "cell_type": "markdown",
      "metadata": {
        "id": "vGsxnAbWFzdx"
      },
      "source": [
        "DIFFERENCE OF SUM"
      ]
    },
    {
      "cell_type": "code",
      "execution_count": null,
      "metadata": {
        "colab": {
          "base_uri": "https://localhost:8080/"
        },
        "id": "ktbMA8oXF1BG",
        "outputId": "f107bcc7-5cee-469e-f2f9-c2e4a6e2c9f0"
      },
      "outputs": [
        {
          "name": "stdout",
          "output_type": "stream",
          "text": [
            "21\n"
          ]
        }
      ],
      "source": [
        "def differenceofsum(a,b):\n",
        "    sum_divisible_by_b=0\n",
        "    sum_not_divisible_by_b=0 # this variable is defined here\n",
        "    for i in range(1,a+1):\n",
        "        if i%b==0:\n",
        "            sum_divisible_by_b+=i\n",
        "        else:\n",
        "            sum_not_divisible_by_b+=i\n",
        "    return(abs(sum_not_divisible_by_b-sum_divisible_by_b)) # make sure the name is consistent\n",
        "a=6\n",
        "b=30\n",
        "print(differenceofsum(a,b))"
      ]
    },
    {
      "cell_type": "markdown",
      "metadata": {
        "id": "1-j9pUc3HrcL"
      },
      "source": [
        "ANAGRAM STRINGS"
      ]
    },
    {
      "cell_type": "code",
      "execution_count": null,
      "metadata": {
        "colab": {
          "base_uri": "https://localhost:8080/"
        },
        "id": "opY6mrcJHssH",
        "outputId": "5cd8ba02-12a4-4832-dacc-1446132ba97d"
      },
      "outputs": [
        {
          "name": "stdout",
          "output_type": "stream",
          "text": [
            "Mahdu\n",
            "Mahdu\n",
            "Anagram\n"
          ]
        }
      ],
      "source": [
        "n1=input()\n",
        "n2=input()\n",
        "if len(n1)!=len(n2):\n",
        "    print(\"Not anagram\")\n",
        "else:\n",
        "    if sorted(n1)==sorted(n2):\n",
        "        print(\"Anagram\")\n",
        "    else:\n",
        "        print(\"Not anagram\")"
      ]
    },
    {
      "cell_type": "markdown",
      "metadata": {
        "id": "pAfPPanBzH9p"
      },
      "source": [
        "PATTERN\n"
      ]
    },
    {
      "cell_type": "code",
      "execution_count": null,
      "metadata": {
        "colab": {
          "base_uri": "https://localhost:8080/"
        },
        "id": "8C5-owy7zJoN",
        "outputId": "5205d61a-ff01-413f-8664-c6b74ed14bdc"
      },
      "outputs": [
        {
          "name": "stdout",
          "output_type": "stream",
          "text": [
            "******\n",
            "******\n",
            "******\n",
            "******\n",
            "******\n",
            "******\n"
          ]
        }
      ],
      "source": [
        "rows=6\n",
        "for i in range(1,rows+1):\n",
        "    print(\"*\"*rows)"
      ]
    },
    {
      "cell_type": "code",
      "execution_count": null,
      "metadata": {
        "colab": {
          "base_uri": "https://localhost:8080/"
        },
        "id": "gU09SXF-6KoG",
        "outputId": "d863110f-ea12-4e02-b4b9-6e00017abd75"
      },
      "outputs": [
        {
          "name": "stdout",
          "output_type": "stream",
          "text": [
            "enter no of rows:5\n",
            "*\n",
            "**\n",
            "***\n",
            "****\n",
            "*****\n"
          ]
        }
      ],
      "source": [
        "num=int(input(\"enter no of rows:\"))\n",
        "for i in range(1,num+1):\n",
        "    for j in range(1,i+1):\n",
        "        print(\"*\",end=\"\")\n",
        "    print()"
      ]
    },
    {
      "cell_type": "code",
      "execution_count": null,
      "metadata": {
        "colab": {
          "base_uri": "https://localhost:8080/"
        },
        "id": "nSfdlxPv652J",
        "outputId": "2c960b45-f962-42a5-82b7-7d6c896b28b5"
      },
      "outputs": [
        {
          "name": "stdout",
          "output_type": "stream",
          "text": [
            "enter no of rows:3\n",
            "* \n",
            "* * * \n",
            "* * * * * \n"
          ]
        }
      ],
      "source": [
        "num=int(input(\"enter no of rows:\"))\n",
        "k=1\n",
        "for i in range(1,num+1):\n",
        "    for j in range(1,k+1):\n",
        "        print(\"*\",end=\" \")\n",
        "    k=k+2\n",
        "    print()"
      ]
    },
    {
      "cell_type": "code",
      "execution_count": null,
      "metadata": {
        "colab": {
          "base_uri": "https://localhost:8080/"
        },
        "id": "QhFW1Ic98QFi",
        "outputId": "afa2c227-935a-4c74-c8fd-b635679cb085"
      },
      "outputs": [
        {
          "name": "stdout",
          "output_type": "stream",
          "text": [
            "enter no of rows4\n",
            "   * \n",
            "  * * \n",
            " * * * \n",
            "* * * * \n"
          ]
        }
      ],
      "source": [
        "num=int(input(\"enter no of rows\"))\n",
        "for i in range(0,num):\n",
        "    for j in range(0,num-i-1):\n",
        "        print(end=\" \")\n",
        "    for j in range(0,i+1):\n",
        "        print(\"*\",end=\" \")\n",
        "    print()"
      ]
    },
    {
      "cell_type": "code",
      "execution_count": null,
      "metadata": {
        "colab": {
          "base_uri": "https://localhost:8080/"
        },
        "id": "Zlo3hh4n9igh",
        "outputId": "cb298ad1-7df3-49ec-9d90-e1bf1efea469"
      },
      "outputs": [
        {
          "name": "stdout",
          "output_type": "stream",
          "text": [
            "enter no of rows5\n",
            "* * * * \n",
            " * * * \n",
            "  * * \n",
            "   * \n",
            "    \n"
          ]
        }
      ],
      "source": [
        "num=int(input(\"enter no of rows\"))\n",
        "for i in range(0,num):\n",
        "    for j in range(0,i):\n",
        "        print(end=\" \")\n",
        "    for j in range(0,num-i-1):\n",
        "        print(\"*\",end=\" \")\n",
        "    print()"
      ]
    },
    {
      "cell_type": "code",
      "execution_count": null,
      "metadata": {
        "colab": {
          "base_uri": "https://localhost:8080/"
        },
        "id": "e53itaJV_lso",
        "outputId": "5bd65f0f-c402-4b96-91be-63bcfdc5cc0c"
      },
      "outputs": [
        {
          "name": "stdout",
          "output_type": "stream",
          "text": [
            "* * * * * \n",
            "* * * * \n",
            "* * * \n",
            "* * \n",
            "* \n"
          ]
        }
      ],
      "source": [
        "n=5\n",
        "for i in range(n):\n",
        "    for j in range(i,n):\n",
        "        print(\"*\",end=\" \")\n",
        "    print()"
      ]
    },
    {
      "cell_type": "code",
      "execution_count": null,
      "metadata": {
        "colab": {
          "base_uri": "https://localhost:8080/"
        },
        "id": "bZTfjdfdEAoG",
        "outputId": "06367732-491f-48b1-aa88-121ee974b1b8"
      },
      "outputs": [
        {
          "name": "stdout",
          "output_type": "stream",
          "text": [
            "True\n",
            "False\n"
          ]
        }
      ],
      "source": [
        "def is_palindrome(s):\n",
        "    left=0\n",
        "    right=len(s)-1\n",
        "    while left<right:\n",
        "        if s[left]!=s[right]:\n",
        "            return False\n",
        "        left+=1\n",
        "        right-=1\n",
        "    return True\n",
        "print(is_palindrome(\"RACECAR\"))\n",
        "print(is_palindrome(\"hello\"))"
      ]
    },
    {
      "cell_type": "code",
      "execution_count": null,
      "metadata": {
        "colab": {
          "base_uri": "https://localhost:8080/"
        },
        "id": "Uu38ELQgGZhJ",
        "outputId": "836cb1c4-238a-4b66-95d9-22e8d9b907c4"
      },
      "outputs": [
        {
          "name": "stdout",
          "output_type": "stream",
          "text": [
            " paales\n"
          ]
        }
      ],
      "source": [
        "def replace_character(str,ch1,ch2):\n",
        "    result=\" \"\n",
        "    for char in str:\n",
        "        if char==ch1:\n",
        "            result+=ch2\n",
        "        elif char==ch2:\n",
        "            result+=ch1\n",
        "        else:\n",
        "            result+=char\n",
        "    return result\n",
        "str=\"apples\"\n",
        "ch1=\"a\"\n",
        "ch2=\"p\"\n",
        "print(replace_character(str,ch1,ch2))"
      ]
    },
    {
      "cell_type": "markdown",
      "metadata": {
        "id": "O2_amU6a1cSR"
      },
      "source": [
        "REVERSE A STRING"
      ]
    },
    {
      "cell_type": "code",
      "execution_count": null,
      "metadata": {
        "colab": {
          "base_uri": "https://localhost:8080/"
        },
        "id": "AEyOIi8A1Z-v",
        "outputId": "7b4b4c07-9389-4d3e-f2df-3eb5ca90d2eb"
      },
      "outputs": [
        {
          "name": "stdout",
          "output_type": "stream",
          "text": [
            "samayal Sunday to Welcome\n"
          ]
        }
      ],
      "source": [
        "def reverse_string(str):\n",
        "  words=str.split()\n",
        "  reversed_words=words[::-1]\n",
        "  reversed_str=\" \".join(reversed_words)\n",
        "  return reversed_str\n",
        "str=\"Welcome to Sunday samayal\"\n",
        "print(reverse_string(str))\n"
      ]
    },
    {
      "cell_type": "code",
      "execution_count": null,
      "metadata": {
        "colab": {
          "base_uri": "https://localhost:8080/"
        },
        "id": "f58FFUWz87_c",
        "outputId": "f097e00b-da3e-4610-bb31-043c33907dfb"
      },
      "outputs": [
        {
          "name": "stdout",
          "output_type": "stream",
          "text": [
            "rats:7\n",
            "units:2\n",
            "no of elements in array:8\n",
            "list of elements with space seperated:2 8 3 5 7 4 1 2\n",
            "4\n"
          ]
        }
      ],
      "source": [
        "def Calculate(r,unit,arr,n):\n",
        "    if arr is None or n ==0:\n",
        "        return -1\n",
        "    totalFoodrequired = r*unit\n",
        "    foodtillnow=0\n",
        "    for i in range(n):\n",
        "        foodtillnow+=arr[i]\n",
        "        if foodtillnow>=totalFoodrequired:\n",
        "            return i+1\n",
        "    return 0\n",
        "r=int(input(\"rats:\"))\n",
        "unit=int(input(\"units:\"))\n",
        "n=int(input(\"no of elements in array:\"))\n",
        "arr=list(map(int,input(\"list of elements with space seperated:\").split()))\n",
        "print(Calculate(r,unit,arr,n))"
      ]
    },
    {
      "cell_type": "code",
      "execution_count": null,
      "metadata": {
        "colab": {
          "base_uri": "https://localhost:8080/"
        },
        "id": "HehiqMbKDacb",
        "outputId": "7e9d348a-003a-4a0c-9c37-801bba2e1920"
      },
      "outputs": [
        {
          "name": "stdout",
          "output_type": "stream",
          "text": [
            "3\n"
          ]
        }
      ],
      "source": [
        "def findcount(arr,num,diff):\n",
        "    count=0\n",
        "    for element in arr:\n",
        "      if abs(element-num)<=diff:\n",
        "        count+=1\n",
        "    return count if count > 0 else -1\n",
        "arr=[12, 3, 14, 56, 77, 13]\n",
        "num=13\n",
        "diff=2\n",
        "result=findcount(arr,num,diff)\n",
        "print(result)"
      ]
    },
    {
      "cell_type": "markdown",
      "metadata": {
        "id": "LqI5yFreCBnV"
      },
      "source": [
        "decode the n-base notation"
      ]
    },
    {
      "cell_type": "code",
      "execution_count": null,
      "metadata": {
        "colab": {
          "base_uri": "https://localhost:8080/"
        },
        "id": "aI7H3KWnCHev",
        "outputId": "ab073608-dcd8-4f45-fa0d-e8504f3f1192"
      },
      "outputs": [
        {
          "name": "stdout",
          "output_type": "stream",
          "text": [
            "4BA \n"
          ]
        }
      ],
      "source": [
        "def DectoNbase(n,num):\n",
        "  symbols=\"0123456789ABCDEFGHIJKLMNOPQRSTUVWXYZ\"\n",
        "  result=\" \"\n",
        "  while num>0:\n",
        "    remainder=num%n\n",
        "    num//=n\n",
        "    result=symbols[remainder]+result\n",
        "  return result\n",
        "print(DectoNbase(12,718))"
      ]
    },
    {
      "cell_type": "markdown",
      "metadata": {
        "id": "kLmVe-sldXi4"
      },
      "source": [
        "matrix even/odd"
      ]
    },
    {
      "cell_type": "code",
      "execution_count": null,
      "metadata": {
        "colab": {
          "base_uri": "https://localhost:8080/"
        },
        "id": "ospONXH0daaV",
        "outputId": "55bb78d0-a36b-4447-e774-a8f4ad660003"
      },
      "outputs": [
        {
          "name": "stdout",
          "output_type": "stream",
          "text": [
            "enter the size of array:5\n",
            "enter element at 0 index:3\n",
            "enter element at 1 index:4\n",
            "enter element at 2 index:1\n",
            "enter element at 3 index:7\n",
            "enter element at 4 index:9\n",
            "7\n"
          ]
        }
      ],
      "source": [
        "def matrix_even_odd():\n",
        "    n=int(input(\"enter the size of array:\"))\n",
        "    even_matrix =[]\n",
        "    odd_matrix = []\n",
        "    for i in range(n):\n",
        "        element=int(input(f\"enter element at {i} index:\"))\n",
        "        if i%2==0:\n",
        "          even_matrix.append(element)\n",
        "        else:\n",
        "          odd_matrix.append(element)\n",
        "    even_matrix.sort()\n",
        "    odd_matrix.sort()\n",
        "    second_largest_even=even_matrix[-2]\n",
        "    second_largest_odd=odd_matrix[-2]\n",
        "    return second_largest_even+second_largest_odd\n",
        "print(matrix_even_odd())\n"
      ]
    },
    {
      "cell_type": "markdown",
      "metadata": {
        "id": "1Crjh2A8fNaO"
      },
      "source": [
        "divisible by 3 and 5 in a given range\n"
      ]
    },
    {
      "cell_type": "code",
      "execution_count": null,
      "metadata": {
        "colab": {
          "base_uri": "https://localhost:8080/"
        },
        "id": "wlXpC-E8fRpu",
        "outputId": "6599e601-e7d2-4571-ea01-79314d0a48c0"
      },
      "outputs": [
        {
          "name": "stdout",
          "output_type": "stream",
          "text": [
            "90\n"
          ]
        }
      ],
      "source": [
        "def calculate(m,n):\n",
        "    total_sum=0\n",
        "    for number in  range(m,n+1):\n",
        "      if number %3 == 0 and number %5 == 0:\n",
        "        total_sum+=number\n",
        "    return total_sum\n",
        "m=12\n",
        "n=50\n",
        "print(calculate(m,n))"
      ]
    },
    {
      "cell_type": "markdown",
      "metadata": {
        "id": "zVOhBy_EZQaY"
      },
      "source": [
        "character count\n"
      ]
    },
    {
      "cell_type": "code",
      "execution_count": null,
      "metadata": {
        "colab": {
          "base_uri": "https://localhost:8080/"
        },
        "id": "tJ3aqJqGZSTc",
        "outputId": "b2c6364a-0d7a-42ab-db70-e5cdbcc1937b"
      },
      "outputs": [
        {
          "name": "stdout",
          "output_type": "stream",
          "text": [
            "3\n"
          ]
        }
      ],
      "source": [
        "def count_char(S,N,l):\n",
        "  return S.count(l)\n",
        "input1=\"Helloworld\"\n",
        "input2=10\n",
        "input3=\"l\"\n",
        "output=count_char(input1,input2,input3)\n",
        "print(output)\n"
      ]
    },
    {
      "cell_type": "markdown",
      "metadata": {
        "id": "vklVUxK4cwGc"
      },
      "source": [
        "rebound the height"
      ]
    },
    {
      "cell_type": "code",
      "execution_count": null,
      "metadata": {
        "colab": {
          "base_uri": "https://localhost:8080/"
        },
        "id": "y6OhogWCcxoF",
        "outputId": "3a7e6112-5fe7-4272-e8da-a96174d02020"
      },
      "outputs": [
        {
          "name": "stdout",
          "output_type": "stream",
          "text": [
            "160\n"
          ]
        }
      ],
      "source": [
        "def rebound_height(H,V,Vn):\n",
        "  e=V/Vn\n",
        "  rebound_height=H * (e ** 2)\n",
        "  return int(rebound_height)\n",
        "input1=10\n",
        "input2=20\n",
        "input3=5\n",
        "output=rebound_height(input1,input2,input3)\n",
        "print(output)"
      ]
    },
    {
      "cell_type": "markdown",
      "metadata": {
        "id": "CvBMICRDfSNi"
      },
      "source": [
        "label even odd"
      ]
    },
    {
      "cell_type": "code",
      "execution_count": null,
      "metadata": {
        "colab": {
          "base_uri": "https://localhost:8080/"
        },
        "id": "pWUf1Eb0fUIW",
        "outputId": "16a62134-ae80-4e7e-f1ba-5dd41dbe7b43"
      },
      "outputs": [
        {
          "name": "stdout",
          "output_type": "stream",
          "text": [
            "['odd', 'even', 'odd', 'even', 'odd']\n"
          ]
        }
      ],
      "source": [
        "def label_even_odd(A,N):\n",
        "  result=[]\n",
        "  for num in A:\n",
        "    if num%2==0:\n",
        "      result.append(\"even\")\n",
        "    else:\n",
        "      result.append(\"odd\")\n",
        "  return result\n",
        "input1=[1,2,3,4,5]\n",
        "input2=5\n",
        "output=label_even_odd(input1,input2)\n",
        "print(output)"
      ]
    },
    {
      "cell_type": "markdown",
      "metadata": {
        "id": "1Zc8kuSJgfEl"
      },
      "source": [
        "sum XOR"
      ]
    },
    {
      "cell_type": "code",
      "execution_count": null,
      "metadata": {
        "colab": {
          "base_uri": "https://localhost:8080/"
        },
        "id": "31A8ow8_ggjp",
        "outputId": "1c4f7004-f043-4b4a-85d7-5a53748e0431"
      },
      "outputs": [
        {
          "name": "stdout",
          "output_type": "stream",
          "text": [
            "-1\n"
          ]
        }
      ],
      "source": [
        "def sum_xor_difference(N,A):\n",
        "  sum_odd=0\n",
        "  xor_even=0\n",
        "  A_list=list(A)\n",
        "  for i in range(N):\n",
        "    if i%2==0:\n",
        "       xor_even^=A_list[i]\n",
        "    else:\n",
        "       sum_odd+=A_list[i]\n",
        "  return sum_odd-xor_even\n",
        "N=6\n",
        "A=[10,5,6,3,7,2]\n",
        "print(sum_xor_difference(N,A))"
      ]
    },
    {
      "cell_type": "markdown",
      "metadata": {
        "id": "tbqbMUJimT_M"
      },
      "source": [
        "minimize the pair product"
      ]
    },
    {
      "cell_type": "code",
      "execution_count": null,
      "metadata": {
        "colab": {
          "base_uri": "https://localhost:8080/"
        },
        "id": "4VxkjvD7mXuA",
        "outputId": "86caa506-5167-4919-8125-a9cd069081aa"
      },
      "outputs": [
        {
          "name": "stdout",
          "output_type": "stream",
          "text": [
            "[11, 7]\n"
          ]
        }
      ],
      "source": [
        "def maximize_pair_product(N,A):\n",
        "  max_product = float('-inf')\n",
        "  best_pair = []\n",
        "  for i in range(N):\n",
        "    for j in range(i + 1, N):\n",
        "        if A[i]+A[j]==18 and A[i]>A[j]:\n",
        "            product=A[i]*A[j]\n",
        "            if product >max_product:\n",
        "                max_product=product\n",
        "                best_pair=[A[i],A[j]]\n",
        "  return best_pair if best_pair else None\n",
        "N=8\n",
        "A=[11,1,2,8,10,11,15,7]\n",
        "print(maximize_pair_product(N,A))"
      ]
    },
    {
      "cell_type": "markdown",
      "metadata": {
        "id": "qoho2HCoUfsQ"
      },
      "source": [
        "Special Fibonacci Series"
      ]
    },
    {
      "cell_type": "code",
      "execution_count": null,
      "metadata": {
        "colab": {
          "background_save": true,
          "base_uri": "https://localhost:8080/",
          "height": 176
        },
        "id": "WOqke2RwUrat",
        "outputId": "6e3f29b8-1200-4456-a45f-53cc04bb8adb"
      },
      "outputs": [
        {
          "ename": "TypeError",
          "evalue": "unsupported operand type(s) for +: 'method' and 'int'",
          "output_type": "error",
          "traceback": [
            "\u001b[0;31m---------------------------------------------------------------------------\u001b[0m",
            "\u001b[0;31mTypeError\u001b[0m                                 Traceback (most recent call last)",
            "\u001b[0;32m<ipython-input-5-87b8c0d095ec>\u001b[0m in \u001b[0;36m<cell line: 9>\u001b[0;34m()\u001b[0m\n\u001b[1;32m      7\u001b[0m     \u001b[0mres\u001b[0m\u001b[0;34m[\u001b[0m\u001b[0mi\u001b[0m\u001b[0;34m]\u001b[0m\u001b[0;34m=\u001b[0m\u001b[0;34m(\u001b[0m\u001b[0mres\u001b[0m\u001b[0;34m[\u001b[0m\u001b[0mi\u001b[0m\u001b[0;34m-\u001b[0m\u001b[0;36m1\u001b[0m\u001b[0;34m]\u001b[0m\u001b[0;34m*\u001b[0m\u001b[0mres\u001b[0m\u001b[0;34m[\u001b[0m\u001b[0mi\u001b[0m\u001b[0;34m-\u001b[0m\u001b[0;36m1\u001b[0m\u001b[0;34m]\u001b[0m\u001b[0;34m+\u001b[0m\u001b[0mres\u001b[0m\u001b[0;34m[\u001b[0m\u001b[0mi\u001b[0m\u001b[0;34m-\u001b[0m\u001b[0;36m2\u001b[0m\u001b[0;34m]\u001b[0m\u001b[0;34m)\u001b[0m\u001b[0;34m%\u001b[0m\u001b[0;36m47\u001b[0m\u001b[0;34m\u001b[0m\u001b[0;34m\u001b[0m\u001b[0m\n\u001b[1;32m      8\u001b[0m   \u001b[0;32mreturn\u001b[0m \u001b[0mres\u001b[0m\u001b[0;34m[\u001b[0m\u001b[0minput1\u001b[0m\u001b[0;34m]\u001b[0m\u001b[0;34m\u001b[0m\u001b[0;34m\u001b[0m\u001b[0m\n\u001b[0;32m----> 9\u001b[0;31m \u001b[0mprint\u001b[0m\u001b[0;34m(\u001b[0m\u001b[0mSpecial_Fibonacci_Series\u001b[0m\u001b[0;34m(\u001b[0m\u001b[0;36m10\u001b[0m\u001b[0;34m)\u001b[0m\u001b[0;34m)\u001b[0m\u001b[0;34m\u001b[0m\u001b[0;34m\u001b[0m\u001b[0m\n\u001b[0m",
            "\u001b[0;32m<ipython-input-5-87b8c0d095ec>\u001b[0m in \u001b[0;36mSpecial_Fibonacci_Series\u001b[0;34m(input1)\u001b[0m\n\u001b[1;32m      1\u001b[0m \u001b[0;32mdef\u001b[0m \u001b[0mSpecial_Fibonacci_Series\u001b[0m\u001b[0;34m(\u001b[0m\u001b[0minput1\u001b[0m\u001b[0;34m)\u001b[0m\u001b[0;34m:\u001b[0m\u001b[0;34m\u001b[0m\u001b[0;34m\u001b[0m\u001b[0m\n\u001b[1;32m      2\u001b[0m   \u001b[0minput1\u001b[0m\u001b[0;34m:\u001b[0m\u001b[0mint\u001b[0m\u001b[0;34m\u001b[0m\u001b[0;34m\u001b[0m\u001b[0m\n\u001b[0;32m----> 3\u001b[0;31m   \u001b[0mres\u001b[0m\u001b[0;34m=\u001b[0m\u001b[0;34m[\u001b[0m\u001b[0;36m0\u001b[0m\u001b[0;34m]\u001b[0m\u001b[0;34m*\u001b[0m\u001b[0;34m(\u001b[0m\u001b[0minput\u001b[0m\u001b[0;34m+\u001b[0m\u001b[0;36m1\u001b[0m\u001b[0;34m)\u001b[0m\u001b[0;34m\u001b[0m\u001b[0;34m\u001b[0m\u001b[0m\n\u001b[0m\u001b[1;32m      4\u001b[0m   \u001b[0mres\u001b[0m\u001b[0;34m[\u001b[0m\u001b[0;36m0\u001b[0m\u001b[0;34m]\u001b[0m\u001b[0;34m=\u001b[0m\u001b[0;36m1\u001b[0m\u001b[0;34m\u001b[0m\u001b[0;34m\u001b[0m\u001b[0m\n\u001b[1;32m      5\u001b[0m   \u001b[0mres\u001b[0m\u001b[0;34m[\u001b[0m\u001b[0;36m0\u001b[0m\u001b[0;34m]\u001b[0m\u001b[0;34m=\u001b[0m\u001b[0;36m1\u001b[0m\u001b[0;34m\u001b[0m\u001b[0;34m\u001b[0m\u001b[0m\n",
            "\u001b[0;31mTypeError\u001b[0m: unsupported operand type(s) for +: 'method' and 'int'"
          ]
        }
      ],
      "source": [
        "def Special_Fibonacci_Series(input1):\n",
        "  input1:int\n",
        "  res=[0]*(input+1)\n",
        "  res[0]=1\n",
        "  res[0]=1\n",
        "  for i in range(2,input+1):\n",
        "    res[i]=(res[i-1]*res[i-1]+res[i-2])%47\n",
        "  return res[input1]\n",
        "print(Special_Fibonacci_Series())"
      ]
    }
  ],
  "metadata": {
    "colab": {
      "provenance": [],
      "authorship_tag": "ABX9TyNAimZAKcjCQEzyg5EcCnN0",
      "include_colab_link": true
    },
    "kernelspec": {
      "display_name": "Python 3",
      "name": "python3"
    },
    "language_info": {
      "name": "python"
    }
  },
  "nbformat": 4,
  "nbformat_minor": 0
}