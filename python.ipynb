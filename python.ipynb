{
  "nbformat": 4,
  "nbformat_minor": 0,
  "metadata": {
    "colab": {
      "provenance": [],
      "include_colab_link": true
    },
    "kernelspec": {
      "name": "python3",
      "display_name": "Python 3"
    },
    "language_info": {
      "name": "python"
    }
  },
  "cells": [
    {
      "cell_type": "markdown",
      "metadata": {
        "id": "view-in-github",
        "colab_type": "text"
      },
      "source": [
        "<a href=\"https://colab.research.google.com/github/madhuribheemarati/CODING-QUESTIONS-/blob/main/python.ipynb\" target=\"_parent\"><img src=\"https://colab.research.google.com/assets/colab-badge.svg\" alt=\"Open In Colab\"/></a>"
      ]
    },
    {
      "cell_type": "code",
      "execution_count": null,
      "metadata": {
        "colab": {
          "base_uri": "https://localhost:8080/"
        },
        "id": "KjIdN1rRQSS8",
        "outputId": "1b93545a-a9a2-4be6-db16-92af54814e85"
      },
      "outputs": [
        {
          "output_type": "stream",
          "name": "stdout",
          "text": [
            "rats:7\n",
            "units:2\n",
            "no of elements in array:8\n",
            "list of elements with space seperated:2 8 3 5 7 4 1 2\n",
            "4\n"
          ]
        }
      ],
      "source": [
        "def Calculate(r,unit,arr,n):\n",
        "    if arr is None or n ==0:\n",
        "        return -1\n",
        "    totalFoodrequired = r*unit\n",
        "    foodtillnow=0\n",
        "    for i in range(n):\n",
        "        foodtillnow+=arr[i]\n",
        "        if foodtillnow>=totalFoodrequired:\n",
        "            return i+1\n",
        "    return 0\n",
        "r=int(input(\"rats:\"))\n",
        "unit=int(input(\"units:\"))\n",
        "n=int(input(\"no of elements in array:\"))\n",
        "arr=list(map(int,input(\"list of elements with space seperated:\").split()))\n",
        "print(Calculate(r,unit,arr,n))"
      ]
    }
  ]
}